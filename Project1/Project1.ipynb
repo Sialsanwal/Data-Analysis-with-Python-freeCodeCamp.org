{
 "cells": [
  {
   "cell_type": "code",
   "execution_count": 5,
   "id": "55455ff6",
   "metadata": {},
   "outputs": [],
   "source": [
    "import numpy as np\n",
    "\n",
    "def calculate(list):\n",
    "    if len(list)<9:\n",
    "        raise ValueError(\"List must be contained 9 element\")\n",
    "    else:\n",
    "        list=np.array(list)\n",
    "        new_list=list.reshape((3,3))\n",
    "        calculations={\"mean\":[np.mean(new_list,0), np.mean(new_list,1), np.mean(list)],\n",
    "                     \"variance\":[np.var(new_list,0), np.var(new_list,1), np.var(list)],\n",
    "                     \"standard deviation\":[np.std(new_list,0), np.std(new_list,1), np.std(list)],\n",
    "                     \"max\":[np.max(new_list,0), np.max(new_list,1),np.max(list)],\n",
    "                     \"min\":[np.min(new_list,0), np.min(new_list,1), np.min(list)],\n",
    "                     \"sum\":[np.sum(new_list,0), np.sum(new_list,1), np.sum(list)]}\n",
    "        \n",
    "\n",
    "\n",
    "\n",
    "    return calculations"
   ]
  },
  {
   "cell_type": "code",
   "execution_count": 6,
   "id": "76d005ac",
   "metadata": {},
   "outputs": [
    {
     "data": {
      "text/plain": [
       "{'mean': [array([4., 5., 6.]), array([2., 5., 8.]), 5.0],\n",
       " 'variance': [array([6., 6., 6.]),\n",
       "  array([0.66666667, 0.66666667, 0.66666667]),\n",
       "  6.666666666666667],\n",
       " 'standard deviation': [array([2.44948974, 2.44948974, 2.44948974]),\n",
       "  array([0.81649658, 0.81649658, 0.81649658]),\n",
       "  2.581988897471611],\n",
       " 'max': [array([7, 8, 9]), array([3, 6, 9]), 9],\n",
       " 'min': [array([1, 2, 3]), array([1, 4, 7]), 1],\n",
       " 'sum': [array([12, 15, 18]), array([ 6, 15, 24]), 45]}"
      ]
     },
     "execution_count": 6,
     "metadata": {},
     "output_type": "execute_result"
    }
   ],
   "source": [
    "calculate([1,2,3,4,5,6,7,8,9])"
   ]
  },
  {
   "cell_type": "code",
   "execution_count": null,
   "id": "1a718c0e",
   "metadata": {},
   "outputs": [],
   "source": []
  }
 ],
 "metadata": {
  "kernelspec": {
   "display_name": "Python 3",
   "language": "python",
   "name": "python3"
  },
  "language_info": {
   "codemirror_mode": {
    "name": "ipython",
    "version": 3
   },
   "file_extension": ".py",
   "mimetype": "text/x-python",
   "name": "python",
   "nbconvert_exporter": "python",
   "pygments_lexer": "ipython3",
   "version": "3.8.5"
  }
 },
 "nbformat": 4,
 "nbformat_minor": 5
}

{
 "cells": [
  {
   "cell_type": "markdown",
   "id": "e7060f3f",
   "metadata": {},
   "source": [
    "# Medical Data Visualize\n",
    "The purpose of this notebook is to demonstrate my knowledge of manipulating and visulizing data. The data is provide by free code camp. See the following link for the link to the data, as well as the full description of the coding challenge: https://repl.it/@freeCodeCamp/fcc-medical-data-visualizer"
   ]
  },
  {
   "cell_type": "code",
   "execution_count": 32,
   "id": "b28b9b69",
   "metadata": {},
   "outputs": [],
   "source": [
    "import numpy as np\n",
    "import pandas as pd\n",
    "#For data visulization\n",
    "import seaborn as sns\n",
    "import matplotlib.pyplot as plt\n"
   ]
  },
  {
   "cell_type": "code",
   "execution_count": 33,
   "id": "cbc3385b",
   "metadata": {},
   "outputs": [],
   "source": [
    "df=pd.read_csv(\"medical_examination.csv\")"
   ]
  },
  {
   "cell_type": "code",
   "execution_count": 34,
   "id": "ebc94129",
   "metadata": {},
   "outputs": [
    {
     "data": {
      "text/html": [
       "<div>\n",
       "<style scoped>\n",
       "    .dataframe tbody tr th:only-of-type {\n",
       "        vertical-align: middle;\n",
       "    }\n",
       "\n",
       "    .dataframe tbody tr th {\n",
       "        vertical-align: top;\n",
       "    }\n",
       "\n",
       "    .dataframe thead th {\n",
       "        text-align: right;\n",
       "    }\n",
       "</style>\n",
       "<table border=\"1\" class=\"dataframe\">\n",
       "  <thead>\n",
       "    <tr style=\"text-align: right;\">\n",
       "      <th></th>\n",
       "      <th>id</th>\n",
       "      <th>age</th>\n",
       "      <th>gender</th>\n",
       "      <th>height</th>\n",
       "      <th>weight</th>\n",
       "      <th>ap_hi</th>\n",
       "      <th>ap_lo</th>\n",
       "      <th>cholesterol</th>\n",
       "      <th>gluc</th>\n",
       "      <th>smoke</th>\n",
       "      <th>alco</th>\n",
       "      <th>active</th>\n",
       "      <th>cardio</th>\n",
       "    </tr>\n",
       "  </thead>\n",
       "  <tbody>\n",
       "    <tr>\n",
       "      <th>0</th>\n",
       "      <td>0</td>\n",
       "      <td>18393</td>\n",
       "      <td>2</td>\n",
       "      <td>168</td>\n",
       "      <td>62.0</td>\n",
       "      <td>110</td>\n",
       "      <td>80</td>\n",
       "      <td>1</td>\n",
       "      <td>1</td>\n",
       "      <td>0</td>\n",
       "      <td>0</td>\n",
       "      <td>1</td>\n",
       "      <td>0</td>\n",
       "    </tr>\n",
       "    <tr>\n",
       "      <th>1</th>\n",
       "      <td>1</td>\n",
       "      <td>20228</td>\n",
       "      <td>1</td>\n",
       "      <td>156</td>\n",
       "      <td>85.0</td>\n",
       "      <td>140</td>\n",
       "      <td>90</td>\n",
       "      <td>3</td>\n",
       "      <td>1</td>\n",
       "      <td>0</td>\n",
       "      <td>0</td>\n",
       "      <td>1</td>\n",
       "      <td>1</td>\n",
       "    </tr>\n",
       "    <tr>\n",
       "      <th>2</th>\n",
       "      <td>2</td>\n",
       "      <td>18857</td>\n",
       "      <td>1</td>\n",
       "      <td>165</td>\n",
       "      <td>64.0</td>\n",
       "      <td>130</td>\n",
       "      <td>70</td>\n",
       "      <td>3</td>\n",
       "      <td>1</td>\n",
       "      <td>0</td>\n",
       "      <td>0</td>\n",
       "      <td>0</td>\n",
       "      <td>1</td>\n",
       "    </tr>\n",
       "    <tr>\n",
       "      <th>3</th>\n",
       "      <td>3</td>\n",
       "      <td>17623</td>\n",
       "      <td>2</td>\n",
       "      <td>169</td>\n",
       "      <td>82.0</td>\n",
       "      <td>150</td>\n",
       "      <td>100</td>\n",
       "      <td>1</td>\n",
       "      <td>1</td>\n",
       "      <td>0</td>\n",
       "      <td>0</td>\n",
       "      <td>1</td>\n",
       "      <td>1</td>\n",
       "    </tr>\n",
       "    <tr>\n",
       "      <th>4</th>\n",
       "      <td>4</td>\n",
       "      <td>17474</td>\n",
       "      <td>1</td>\n",
       "      <td>156</td>\n",
       "      <td>56.0</td>\n",
       "      <td>100</td>\n",
       "      <td>60</td>\n",
       "      <td>1</td>\n",
       "      <td>1</td>\n",
       "      <td>0</td>\n",
       "      <td>0</td>\n",
       "      <td>0</td>\n",
       "      <td>0</td>\n",
       "    </tr>\n",
       "  </tbody>\n",
       "</table>\n",
       "</div>"
      ],
      "text/plain": [
       "   id    age  gender  height  weight  ap_hi  ap_lo  cholesterol  gluc  smoke  \\\n",
       "0   0  18393       2     168    62.0    110     80            1     1      0   \n",
       "1   1  20228       1     156    85.0    140     90            3     1      0   \n",
       "2   2  18857       1     165    64.0    130     70            3     1      0   \n",
       "3   3  17623       2     169    82.0    150    100            1     1      0   \n",
       "4   4  17474       1     156    56.0    100     60            1     1      0   \n",
       "\n",
       "   alco  active  cardio  \n",
       "0     0       1       0  \n",
       "1     0       1       1  \n",
       "2     0       0       1  \n",
       "3     0       1       1  \n",
       "4     0       0       0  "
      ]
     },
     "execution_count": 34,
     "metadata": {},
     "output_type": "execute_result"
    }
   ],
   "source": [
    "df.head()"
   ]
  },
  {
   "cell_type": "code",
   "execution_count": 35,
   "id": "4cc37ef9",
   "metadata": {},
   "outputs": [
    {
     "data": {
      "text/plain": [
       "(70000, 13)"
      ]
     },
     "execution_count": 35,
     "metadata": {},
     "output_type": "execute_result"
    }
   ],
   "source": [
    "#how large is the dataset\n",
    "df.shape"
   ]
  },
  {
   "cell_type": "code",
   "execution_count": 36,
   "id": "1238411c",
   "metadata": {},
   "outputs": [
    {
     "data": {
      "text/plain": [
       "id             0\n",
       "age            0\n",
       "gender         0\n",
       "height         0\n",
       "weight         0\n",
       "ap_hi          0\n",
       "ap_lo          0\n",
       "cholesterol    0\n",
       "gluc           0\n",
       "smoke          0\n",
       "alco           0\n",
       "active         0\n",
       "cardio         0\n",
       "dtype: int64"
      ]
     },
     "execution_count": 36,
     "metadata": {},
     "output_type": "execute_result"
    }
   ],
   "source": [
    "#checking for missing value\n",
    "df.isnull().sum()"
   ]
  },
  {
   "cell_type": "markdown",
   "id": "68b8d677",
   "metadata": {},
   "source": [
    "# Normalizing The Data\n",
    "From the instructions given, in order for us to find out which patients (rows in the df) are overweight we must do the following: \"calculate their BMI by dividing their weight in kilograms by the square of their height in meters.\" \"If that value is > 25 then the person is overweight. Use the value 0 for NOT overweight and the value 1 for overweight.\"\n",
    "\n",
    "To normalize the data the following must be done: \"make 0 always good and 1 always bad. If the value of 'cholestorol' or 'gluc' is 1, make the value 0. If the value is more than 1, make the value 1.\"\n",
    "\n",
    "See the following link for the full description of the challenge: https://repl.it/@freeCodeCamp/fcc-medical-data-visualizer#README.md"
   ]
  },
  {
   "cell_type": "code",
   "execution_count": 38,
   "id": "93fcee0e",
   "metadata": {},
   "outputs": [
    {
     "data": {
      "text/plain": [
       "0    1.68\n",
       "1    1.56\n",
       "2    1.65\n",
       "3    1.69\n",
       "4    1.56\n",
       "Name: height, dtype: float64"
      ]
     },
     "execution_count": 38,
     "metadata": {},
     "output_type": "execute_result"
    }
   ],
   "source": [
    "#converting height from centimeter to meter before calculating BMI\n",
    "df[\"height\"]=df[\"height\"]/100\n",
    "df[\"height\"].head()\n"
   ]
  },
  {
   "cell_type": "code",
   "execution_count": 39,
   "id": "63c81d80",
   "metadata": {},
   "outputs": [],
   "source": [
    "bmi=df[\"weight\"]/df[\"height\"]**2"
   ]
  },
  {
   "cell_type": "code",
   "execution_count": 41,
   "id": "f1120956",
   "metadata": {},
   "outputs": [
    {
     "data": {
      "text/plain": [
       "0    21.967120\n",
       "1    34.927679\n",
       "2    23.507805\n",
       "3    28.710479\n",
       "4    23.011177\n",
       "dtype: float64"
      ]
     },
     "execution_count": 41,
     "metadata": {},
     "output_type": "execute_result"
    }
   ],
   "source": [
    "bmi.head()"
   ]
  },
  {
   "cell_type": "code",
   "execution_count": 42,
   "id": "02ea6124",
   "metadata": {},
   "outputs": [],
   "source": [
    "#creating BMI columns in dataset\n",
    "df[\"BMI\"]=bmi"
   ]
  },
  {
   "cell_type": "code",
   "execution_count": 43,
   "id": "849d888a",
   "metadata": {},
   "outputs": [
    {
     "data": {
      "text/html": [
       "<div>\n",
       "<style scoped>\n",
       "    .dataframe tbody tr th:only-of-type {\n",
       "        vertical-align: middle;\n",
       "    }\n",
       "\n",
       "    .dataframe tbody tr th {\n",
       "        vertical-align: top;\n",
       "    }\n",
       "\n",
       "    .dataframe thead th {\n",
       "        text-align: right;\n",
       "    }\n",
       "</style>\n",
       "<table border=\"1\" class=\"dataframe\">\n",
       "  <thead>\n",
       "    <tr style=\"text-align: right;\">\n",
       "      <th></th>\n",
       "      <th>id</th>\n",
       "      <th>age</th>\n",
       "      <th>gender</th>\n",
       "      <th>height</th>\n",
       "      <th>weight</th>\n",
       "      <th>ap_hi</th>\n",
       "      <th>ap_lo</th>\n",
       "      <th>cholesterol</th>\n",
       "      <th>gluc</th>\n",
       "      <th>smoke</th>\n",
       "      <th>alco</th>\n",
       "      <th>active</th>\n",
       "      <th>cardio</th>\n",
       "      <th>BMI</th>\n",
       "    </tr>\n",
       "  </thead>\n",
       "  <tbody>\n",
       "    <tr>\n",
       "      <th>0</th>\n",
       "      <td>0</td>\n",
       "      <td>18393</td>\n",
       "      <td>2</td>\n",
       "      <td>1.68</td>\n",
       "      <td>62.0</td>\n",
       "      <td>110</td>\n",
       "      <td>80</td>\n",
       "      <td>1</td>\n",
       "      <td>1</td>\n",
       "      <td>0</td>\n",
       "      <td>0</td>\n",
       "      <td>1</td>\n",
       "      <td>0</td>\n",
       "      <td>21.967120</td>\n",
       "    </tr>\n",
       "    <tr>\n",
       "      <th>1</th>\n",
       "      <td>1</td>\n",
       "      <td>20228</td>\n",
       "      <td>1</td>\n",
       "      <td>1.56</td>\n",
       "      <td>85.0</td>\n",
       "      <td>140</td>\n",
       "      <td>90</td>\n",
       "      <td>3</td>\n",
       "      <td>1</td>\n",
       "      <td>0</td>\n",
       "      <td>0</td>\n",
       "      <td>1</td>\n",
       "      <td>1</td>\n",
       "      <td>34.927679</td>\n",
       "    </tr>\n",
       "    <tr>\n",
       "      <th>2</th>\n",
       "      <td>2</td>\n",
       "      <td>18857</td>\n",
       "      <td>1</td>\n",
       "      <td>1.65</td>\n",
       "      <td>64.0</td>\n",
       "      <td>130</td>\n",
       "      <td>70</td>\n",
       "      <td>3</td>\n",
       "      <td>1</td>\n",
       "      <td>0</td>\n",
       "      <td>0</td>\n",
       "      <td>0</td>\n",
       "      <td>1</td>\n",
       "      <td>23.507805</td>\n",
       "    </tr>\n",
       "    <tr>\n",
       "      <th>3</th>\n",
       "      <td>3</td>\n",
       "      <td>17623</td>\n",
       "      <td>2</td>\n",
       "      <td>1.69</td>\n",
       "      <td>82.0</td>\n",
       "      <td>150</td>\n",
       "      <td>100</td>\n",
       "      <td>1</td>\n",
       "      <td>1</td>\n",
       "      <td>0</td>\n",
       "      <td>0</td>\n",
       "      <td>1</td>\n",
       "      <td>1</td>\n",
       "      <td>28.710479</td>\n",
       "    </tr>\n",
       "    <tr>\n",
       "      <th>4</th>\n",
       "      <td>4</td>\n",
       "      <td>17474</td>\n",
       "      <td>1</td>\n",
       "      <td>1.56</td>\n",
       "      <td>56.0</td>\n",
       "      <td>100</td>\n",
       "      <td>60</td>\n",
       "      <td>1</td>\n",
       "      <td>1</td>\n",
       "      <td>0</td>\n",
       "      <td>0</td>\n",
       "      <td>0</td>\n",
       "      <td>0</td>\n",
       "      <td>23.011177</td>\n",
       "    </tr>\n",
       "  </tbody>\n",
       "</table>\n",
       "</div>"
      ],
      "text/plain": [
       "   id    age  gender  height  weight  ap_hi  ap_lo  cholesterol  gluc  smoke  \\\n",
       "0   0  18393       2    1.68    62.0    110     80            1     1      0   \n",
       "1   1  20228       1    1.56    85.0    140     90            3     1      0   \n",
       "2   2  18857       1    1.65    64.0    130     70            3     1      0   \n",
       "3   3  17623       2    1.69    82.0    150    100            1     1      0   \n",
       "4   4  17474       1    1.56    56.0    100     60            1     1      0   \n",
       "\n",
       "   alco  active  cardio        BMI  \n",
       "0     0       1       0  21.967120  \n",
       "1     0       1       1  34.927679  \n",
       "2     0       0       1  23.507805  \n",
       "3     0       1       1  28.710479  \n",
       "4     0       0       0  23.011177  "
      ]
     },
     "execution_count": 43,
     "metadata": {},
     "output_type": "execute_result"
    }
   ],
   "source": [
    "df.head()"
   ]
  },
  {
   "cell_type": "code",
   "execution_count": 44,
   "id": "93d3563f",
   "metadata": {},
   "outputs": [],
   "source": [
    "#creating overweighted columns\n",
    "df.loc[df[\"BMI\"]<=25, \"overweight\"]=0\n",
    "df.loc[df[\"BMI\"]>25, \"overweight\"]=1"
   ]
  },
  {
   "cell_type": "code",
   "execution_count": 47,
   "id": "3a805e13",
   "metadata": {},
   "outputs": [
    {
     "data": {
      "text/plain": [
       "0    0.0\n",
       "1    1.0\n",
       "2    0.0\n",
       "3    1.0\n",
       "4    0.0\n",
       "Name: overweight, dtype: float64"
      ]
     },
     "execution_count": 47,
     "metadata": {},
     "output_type": "execute_result"
    }
   ],
   "source": [
    "df.overweight.head()"
   ]
  },
  {
   "cell_type": "markdown",
   "id": "1b5461b2",
   "metadata": {},
   "source": [
    "# Recap of Normalizing Data\n",
    "Now that the overweight column is created the next step is to normalize the data in 'gluc' and 'cholesterol'. Here are the instructions: \"make 0 always good and 1 always bad. If the value of 'cholestorol' or 'gluc' is 1, make the value 0. If the value is more than 1, make the value 1.\"*"
   ]
  },
  {
   "cell_type": "code",
   "execution_count": 58,
   "id": "51117bd9",
   "metadata": {},
   "outputs": [],
   "source": [
    "# Normalize data in 'gluc' and 'cholesterol'\n",
    "\n",
    "df.loc[df['gluc'] == 1, 'gluc'] = 0 \n",
    "df.loc[df['gluc'] > 1, 'gluc'] = 1 \n",
    "\n",
    "df.loc[df['cholesterol'] == 1, 'cholesterol'] = 0 \n",
    "df.loc[df['cholesterol'] > 1, 'cholesterol'] = 1"
   ]
  },
  {
   "cell_type": "markdown",
   "id": "dc4ba6ca",
   "metadata": {},
   "source": [
    "# Visualizing The Data: Correlation Heat Map Plot\n",
    "Going back to the old dataframe, the instructions tell us to clean up the data in order to plot a heatmap. See the following link for the full description of the instructions for this function: https://repl.it/@freeCodeCamp/fcc-medical-data-visualizer#README.md\n",
    "\n",
    "How to clean the data:\n",
    "\n",
    "Filter out the following patient segments that represent incorrect data:\n",
    "\n",
    "- diastolic pressure is higher then systolic (Keep the correct data with df['ap_lo'] <= df['ap_hi']))\n",
    "- height is less than the 2.5th percentile (Keep the correct data with (df['height'] >= df['height'].quantile(0.025)))\n",
    "- height is more than the 97.5th percentile\n",
    "- weight is less then the 2.5th percentile.\n",
    "- weight is more than the 97.5th percentile"
   ]
  },
  {
   "cell_type": "markdown",
   "id": "d28ee57f",
   "metadata": {},
   "source": [
    "# Visualizing The Data: Categorical Plot\n",
    "Now that the work has been done to preprocess the data, it is time to plot the results. Below you will find the function created to plot a catplot using seaborn. Please note the full description of the instructions of this function can be found using the following link: https://repl.it/@freeCodeCamp/fcc-medical-data-visualizer#README.md"
   ]
  },
  {
   "cell_type": "code",
   "execution_count": 59,
   "id": "a628a884",
   "metadata": {},
   "outputs": [],
   "source": [
    "# Draw Categorical Plot\n",
    "def draw_cat_plot():\n",
    "    # Create DataFrame for cat plot using `pd.melt` \n",
    "    # Use just the values from 'cholesterol', 'gluc', 'smoke', 'alco', 'active', and 'overweight'.\n",
    "    df_cat = pd.melt(df, id_vars = 'cardio', value_vars = ['cholesterol', 'gluc', 'smoke', \n",
    "                                    'alco', 'active', 'overweight'])\n",
    "\n",
    "    '''This portion of the function is skipped because it is not needed. The parameters\n",
    "    of catplot help split the data in the required format'''\n",
    "    # Group and reformat the data to split it by 'cardio'. \n",
    "    # Show the counts of each feature. \n",
    "    # You will have to rename one of the columns for the catplot to work correctly.\n",
    "    \n",
    "    \n",
    "    # Draw the catplot with 'sns.catplot()'\n",
    "    fig = sns.catplot(data=df_cat, kind='count', x='variable', hue='value', col='cardio')\n",
    "\n",
    "\n",
    "    # Saving the plotted image\n",
    "    fig.savefig('catplot.png')\n",
    "    return fig"
   ]
  },
  {
   "cell_type": "code",
   "execution_count": 52,
   "id": "302d1cd9",
   "metadata": {},
   "outputs": [],
   "source": [
    "# Draw Heat Map\n",
    "def draw_heat_map():\n",
    "     # Clean the data\n",
    "    df_heat = df[\n",
    "    (df['ap_lo'] <= df['ap_hi']) & \n",
    "    (df['height'] >= (df['height'].quantile(0.025))) &\n",
    "    (df['height'] <= (df['height'].quantile(0.975))) &\n",
    "    (df['weight'] >= (df['weight'].quantile(0.025))) &\n",
    "    (df['weight'] <= (df['weight'].quantile(0.975)))\n",
    "    ]\n",
    "\n",
    "    # Calculate the correlation matrix\n",
    "    corr = df_heat.corr()\n",
    "\n",
    "    # Upper triangle of an array. The triu() function is used to get a copy of a \n",
    "    # matrix with the elements below the k-th diagonal zeroed.Feb 26, 2020\n",
    "    mask = np.triu(corr)\n",
    "\n",
    "\n",
    "\n",
    "    # Set up the matplotlib figure\n",
    "    fig, ax = plt.subplots(figsize=(9,9))\n",
    "\n",
    "    # Draw the heatmap with 'sns.heatmap()'\n",
    "    sns.heatmap(corr, linewidths=1, mask=mask, vmax=.3, center=0.09,\n",
    "                square=True, cbar_kws = {'orientation' : 'horizontal'})\n",
    "\n",
    "\n",
    "    # Saving the plotted image\n",
    "    fig.savefig('heatmap.png')\n",
    "    return fig"
   ]
  },
  {
   "cell_type": "code",
   "execution_count": null,
   "id": "8e8c2cfd",
   "metadata": {},
   "outputs": [],
   "source": []
  },
  {
   "cell_type": "code",
   "execution_count": 57,
   "id": "e156213f",
   "metadata": {},
   "outputs": [
    {
     "data": {
      "image/png": "[encoded data removed]",
      "text/plain": [
       "<Figure size 648x648 with 2 Axes>"
      ]
     },
     "execution_count": 57,
     "metadata": {},
     "output_type": "execute_result"
    },
    {
     "data": {
      "image/png": "[encoded data removed]",
      "text/plain": [
       "<Figure size 648x648 with 2 Axes>"
      ]
     },
     "metadata": {
      "needs_background": "light"
     },
     "output_type": "display_data"
    }
   ],
   "source": [
    "draw_heat_map()"
   ]
  },
  {
   "cell_type": "code",
   "execution_count": 61,
   "id": "161c17d0",
   "metadata": {},
   "outputs": [
    {
     "data": {
      "text/plain": [
       "<seaborn.axisgrid.FacetGrid at 0x1ef91de2b80>"
      ]
     },
     "execution_count": 61,
     "metadata": {},
     "output_type": "execute_result"
    },
    {
     "data": {
      "image/png": "[encoded data removed]",
      "text/plain": [
       "<Figure size 771.875x360 with 2 Axes>"
      ]
     },
     "metadata": {
      "needs_background": "light"
     },
     "output_type": "display_data"
    }
   ],
   "source": [
    "draw_cat_plot()"
   ]
  },
  {
   "cell_type": "code",
   "execution_count": 62,
   "id": "f8a8f481",
   "metadata": {},
   "outputs": [],
   "source": []
  },
  {
   "cell_type": "code",
   "execution_count": null,
   "id": "ef33e547",
   "metadata": {},
   "outputs": [],
   "source": []
  }
 ],
 "metadata": {
  "kernelspec": {
   "display_name": "Python 3",
   "language": "python",
   "name": "python3"
  },
  "language_info": {
   "codemirror_mode": {
    "name": "ipython",
    "version": 3
   },
   "file_extension": ".py",
   "mimetype": "text/x-python",
   "name": "python",
   "nbconvert_exporter": "python",
   "pygments_lexer": "ipython3",
   "version": "3.8.5"
  }
 },
 "nbformat": 4,
 "nbformat_minor": 5
}

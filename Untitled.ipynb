{
 "cells": [
  {
   "cell_type": "code",
   "execution_count": null,
   "id": "701220b4",
   "metadata": {},
   "outputs": [],
   "source": [
    "import numpy as np\n",
    "import pandas as pd"
   ]
  },
  {
   "cell_type": "code",
   "execution_count": null,
   "id": "70c2b51f",
   "metadata": {},
   "outputs": [],
   "source": [
    "df=pd.DataFrame([[1,2,3,4],[5,6,7,8]])"
   ]
  },
  {
   "cell_type": "code",
   "execution_count": null,
   "id": "28cccdbd",
   "metadata": {},
   "outputs": [],
   "source": [
    "df=pd.DataFrame([pd.Series(np.arange(10,15)), \n",
    "                pd.Series(np.arange(15,20))])"
   ]
  },
  {
   "cell_type": "code",
   "execution_count": null,
   "id": "0f371002",
   "metadata": {},
   "outputs": [],
   "source": [
    "df"
   ]
  },
  {
   "cell_type": "code",
   "execution_count": null,
   "id": "1f505746",
   "metadata": {},
   "outputs": [],
   "source": [
    "df=pd.DataFrame({\"Name\":[\"Sanwal\",\"Amar\",\"Shoukat\"],\n",
    "                \"Roll No\":[191720,191719,191718]})"
   ]
  },
  {
   "cell_type": "code",
   "execution_count": null,
   "id": "31740969",
   "metadata": {},
   "outputs": [],
   "source": [
    "name=[\"Sanwal\",\"Amar\",\"Ahmad\",\"Anaya\",\"Shoukat\"]\n",
    "age=[22,21,20,8,24]\n",
    "edu=[\"BSCS\",\"BSCS\",\"BSIT\",\"BSM\",\"BSU\"]\n",
    "df=pd.DataFrame({\"Name\":name,\n",
    "                \"Age\":age,\n",
    "               \"Education\":edu},index=[\"B\",\"B\",\"B\",\"G\",\"B\"])"
   ]
  },
  {
   "cell_type": "code",
   "execution_count": null,
   "id": "d5be8ce1",
   "metadata": {},
   "outputs": [],
   "source": [
    "df"
   ]
  },
  {
   "cell_type": "code",
   "execution_count": null,
   "id": "601cb6d3",
   "metadata": {},
   "outputs": [],
   "source": [
    "df[\"Gender\"]=[\"B\",\"B\",\"B\",\"G\",\"B\"]"
   ]
  },
  {
   "cell_type": "code",
   "execution_count": null,
   "id": "99efb7aa",
   "metadata": {},
   "outputs": [],
   "source": [
    "df.index=np.arange(5)"
   ]
  },
  {
   "cell_type": "code",
   "execution_count": null,
   "id": "7248ebe5",
   "metadata": {},
   "outputs": [],
   "source": [
    "df"
   ]
  },
  {
   "cell_type": "code",
   "execution_count": null,
   "id": "a17e4964",
   "metadata": {},
   "outputs": [],
   "source": [
    "df[df.Age>10]"
   ]
  },
  {
   "cell_type": "code",
   "execution_count": null,
   "id": "14d4616c",
   "metadata": {},
   "outputs": [],
   "source": [
    "df[\"Y/N\"]=df[\"Age\"]>=20"
   ]
  },
  {
   "cell_type": "code",
   "execution_count": null,
   "id": "99c94c62",
   "metadata": {},
   "outputs": [],
   "source": [
    "df"
   ]
  },
  {
   "cell_type": "code",
   "execution_count": null,
   "id": "c0d6ee43",
   "metadata": {},
   "outputs": [],
   "source": [
    "name=[\"Sanwal\",\"Amar\",\"Ali\",\"Ahmad\",\"Abid\",\"Hamza\"]\n",
    "age=[21,21,20,24,23,25]\n",
    "Q1=[60,35,67,89,76,46]\n",
    "Q2=[76,67,98,46,35,87]\n",
    "Q3=[54,76,97,34,67,45]\n",
    "Q4=[87,45,87,45,87,56]\n",
    "df2=pd.DataFrame({\"Name\":name,\"Age\":age,\"AI_For_EveryOne\":Q1,\"Git\":Q2,\"Numpy\":Q3,\"Pandas\":Q4})"
   ]
  },
  {
   "cell_type": "code",
   "execution_count": null,
   "id": "f0c8ff53",
   "metadata": {},
   "outputs": [],
   "source": [
    "df2"
   ]
  },
  {
   "cell_type": "code",
   "execution_count": null,
   "id": "d166f64e",
   "metadata": {},
   "outputs": [],
   "source": [
    "df2[\"Total_Marks\"]=df2[[\"AI_For_EveryOne\",\"Git\",\"Numpy\",\"Pandas\"]].sum(axis=1)"
   ]
  },
  {
   "cell_type": "code",
   "execution_count": null,
   "id": "cbdf0190",
   "metadata": {},
   "outputs": [],
   "source": [
    "df2"
   ]
  },
  {
   "cell_type": "code",
   "execution_count": null,
   "id": "323cb8d3",
   "metadata": {},
   "outputs": [],
   "source": [
    "pop=pd.Series([134.45,23.65,34.76,76.67,67.56])"
   ]
  },
  {
   "cell_type": "code",
   "execution_count": null,
   "id": "a3163718",
   "metadata": {},
   "outputs": [],
   "source": [
    "pop.name=\"Population in Million\""
   ]
  },
  {
   "cell_type": "code",
   "execution_count": null,
   "id": "17c93ca1",
   "metadata": {},
   "outputs": [],
   "source": [
    "pop.index=[\"Pakistan\",\"India\",\"Japan\",\"Oman\",\"UAE\"]"
   ]
  },
  {
   "cell_type": "code",
   "execution_count": null,
   "id": "782f8931",
   "metadata": {},
   "outputs": [],
   "source": [
    "pop"
   ]
  },
  {
   "cell_type": "code",
   "execution_count": null,
   "id": "86fde20b",
   "metadata": {},
   "outputs": [],
   "source": [
    "pop[\"China\"]=456.45"
   ]
  },
  {
   "cell_type": "code",
   "execution_count": null,
   "id": "bbfb4e1e",
   "metadata": {},
   "outputs": [],
   "source": [
    "pop"
   ]
  },
  {
   "cell_type": "code",
   "execution_count": null,
   "id": "718dc07a",
   "metadata": {},
   "outputs": [],
   "source": [
    "pop.sort_values"
   ]
  },
  {
   "cell_type": "code",
   "execution_count": null,
   "id": "ce844b3c",
   "metadata": {},
   "outputs": [],
   "source": [
    "pop"
   ]
  },
  {
   "cell_type": "code",
   "execution_count": null,
   "id": "d2a21790",
   "metadata": {},
   "outputs": [],
   "source": [
    "pop.iloc[1]"
   ]
  },
  {
   "cell_type": "code",
   "execution_count": null,
   "id": "5d470801",
   "metadata": {},
   "outputs": [],
   "source": [
    "population=pd.Series([20,35,56,80,100,120,140,96,80,99])"
   ]
  },
  {
   "cell_type": "code",
   "execution_count": null,
   "id": "0140f1c3",
   "metadata": {},
   "outputs": [],
   "source": [
    "population.index=[\"Pakistan\",\"Inida\",\"China\",\"UAE\",\"Caneda\",\"Oman\",\"Japan\",\"Sri_Lanka\",\"UAF\",\"XYZ\"]"
   ]
  },
  {
   "cell_type": "code",
   "execution_count": null,
   "id": "7d606e58",
   "metadata": {},
   "outputs": [],
   "source": [
    "population"
   ]
  },
  {
   "cell_type": "code",
   "execution_count": null,
   "id": "301b5813",
   "metadata": {},
   "outputs": [],
   "source": [
    "population[(population>20) & (population<100)]"
   ]
  },
  {
   "cell_type": "code",
   "execution_count": null,
   "id": "79cb1397",
   "metadata": {},
   "outputs": [],
   "source": [
    "population."
   ]
  },
  {
   "cell_type": "code",
   "execution_count": null,
   "id": "3c203fe1",
   "metadata": {},
   "outputs": [],
   "source": []
  },
  {
   "cell_type": "code",
   "execution_count": null,
   "id": "3a0bd4e1",
   "metadata": {},
   "outputs": [],
   "source": [
    "df.info()"
   ]
  },
  {
   "cell_type": "code",
   "execution_count": null,
   "id": "8d903940",
   "metadata": {},
   "outputs": [],
   "source": [
    "df.describe()"
   ]
  },
  {
   "cell_type": "code",
   "execution_count": null,
   "id": "d4857f60",
   "metadata": {},
   "outputs": [],
   "source": [
    "df.info()"
   ]
  },
  {
   "cell_type": "code",
   "execution_count": null,
   "id": "331d7379",
   "metadata": {},
   "outputs": [],
   "source": [
    "df"
   ]
  },
  {
   "cell_type": "code",
   "execution_count": null,
   "id": "807d813d",
   "metadata": {},
   "outputs": [],
   "source": [
    "df.loc[0]"
   ]
  },
  {
   "cell_type": "code",
   "execution_count": null,
   "id": "3954b088",
   "metadata": {},
   "outputs": [],
   "source": [
    "df.iloc[0]"
   ]
  },
  {
   "cell_type": "code",
   "execution_count": null,
   "id": "1d9bd3dc",
   "metadata": {},
   "outputs": [],
   "source": [
    "df"
   ]
  },
  {
   "cell_type": "code",
   "execution_count": null,
   "id": "439e24a2",
   "metadata": {},
   "outputs": [],
   "source": [
    "df.loc[0:2,\"Name\":\"Education\"]"
   ]
  },
  {
   "cell_type": "code",
   "execution_count": null,
   "id": "bce229ff",
   "metadata": {},
   "outputs": [],
   "source": [
    "df.loc[:,:\"Education\"]"
   ]
  },
  {
   "cell_type": "code",
   "execution_count": null,
   "id": "e04651a0",
   "metadata": {},
   "outputs": [],
   "source": [
    "df2=df"
   ]
  },
  {
   "cell_type": "code",
   "execution_count": null,
   "id": "0076f036",
   "metadata": {},
   "outputs": [],
   "source": [
    "df2.index=[\"a\",\"b\",\"c\",\"d\",\"e\"]"
   ]
  },
  {
   "cell_type": "code",
   "execution_count": null,
   "id": "d9cf7948",
   "metadata": {},
   "outputs": [],
   "source": [
    "df2"
   ]
  },
  {
   "cell_type": "code",
   "execution_count": null,
   "id": "6f1397be",
   "metadata": {},
   "outputs": [],
   "source": [
    "df"
   ]
  },
  {
   "cell_type": "code",
   "execution_count": null,
   "id": "68ed5578",
   "metadata": {},
   "outputs": [],
   "source": [
    "df.loc[\"a\":,]"
   ]
  },
  {
   "cell_type": "code",
   "execution_count": null,
   "id": "385cc82e",
   "metadata": {},
   "outputs": [],
   "source": [
    "df.index=np.arange(5)"
   ]
  },
  {
   "cell_type": "code",
   "execution_count": null,
   "id": "b0b503cb",
   "metadata": {},
   "outputs": [],
   "source": [
    "df"
   ]
  },
  {
   "cell_type": "code",
   "execution_count": null,
   "id": "5a5d3f83",
   "metadata": {},
   "outputs": [],
   "source": [
    "df.iloc[0:2,]"
   ]
  },
  {
   "cell_type": "code",
   "execution_count": null,
   "id": "d94e8f6e",
   "metadata": {},
   "outputs": [],
   "source": [
    "df3=pd.read_csv(\"adult.data.csv\")"
   ]
  },
  {
   "cell_type": "code",
   "execution_count": null,
   "id": "5c8abefb",
   "metadata": {},
   "outputs": [],
   "source": [
    "df3.head()"
   ]
  },
  {
   "cell_type": "code",
   "execution_count": null,
   "id": "fa7c25d1",
   "metadata": {},
   "outputs": [],
   "source": [
    "x=df3.loc[df3[\"sex\"]==\"Male\"]"
   ]
  },
  {
   "cell_type": "code",
   "execution_count": null,
   "id": "6d388489",
   "metadata": {},
   "outputs": [],
   "source": [
    "len(x)"
   ]
  },
  {
   "cell_type": "code",
   "execution_count": null,
   "id": "8f7adbf5",
   "metadata": {},
   "outputs": [],
   "source": [
    "edu=df3.loc[df3[\"education\"]==\"Bachelors\"]"
   ]
  },
  {
   "cell_type": "code",
   "execution_count": null,
   "id": "6ccd6f54",
   "metadata": {},
   "outputs": [],
   "source": [
    "edu"
   ]
  },
  {
   "cell_type": "code",
   "execution_count": null,
   "id": "645455bc",
   "metadata": {},
   "outputs": [],
   "source": [
    "marr=df3.loc[df3[\"relationship\"]==\"Wife\"]"
   ]
  },
  {
   "cell_type": "code",
   "execution_count": null,
   "id": "e9bef152",
   "metadata": {},
   "outputs": [],
   "source": [
    "ra=df3.loc[df3[\"race\"]==\"White\"]"
   ]
  },
  {
   "cell_type": "markdown",
   "id": "6d535a2e",
   "metadata": {},
   "source": [
    "### ra"
   ]
  },
  {
   "cell_type": "code",
   "execution_count": null,
   "id": "efeb5f17",
   "metadata": {},
   "outputs": [],
   "source": [
    "df3"
   ]
  },
  {
   "cell_type": "code",
   "execution_count": null,
   "id": "6547dff2",
   "metadata": {},
   "outputs": [],
   "source": [
    "df3.head()"
   ]
  },
  {
   "cell_type": "code",
   "execution_count": null,
   "id": "3ada0ef2",
   "metadata": {},
   "outputs": [],
   "source": [
    "df3.drop(\"age\", axis=1)"
   ]
  },
  {
   "cell_type": "code",
   "execution_count": null,
   "id": "f4acfd56",
   "metadata": {},
   "outputs": [],
   "source": [
    "df3"
   ]
  },
  {
   "cell_type": "code",
   "execution_count": null,
   "id": "adf6c85c",
   "metadata": {},
   "outputs": [],
   "source": [
    "df3.drop(0)"
   ]
  },
  {
   "cell_type": "code",
   "execution_count": null,
   "id": "7e65a7fa",
   "metadata": {},
   "outputs": [],
   "source": [
    "df3.head()"
   ]
  },
  {
   "cell_type": "code",
   "execution_count": null,
   "id": "c0e8f8de",
   "metadata": {},
   "outputs": [],
   "source": [
    "df3.rename(columns={\"age\":\"Age\",\"race\":\"Colour\" }, inplace=True)"
   ]
  },
  {
   "cell_type": "code",
   "execution_count": null,
   "id": "af041b57",
   "metadata": {},
   "outputs": [],
   "source": [
    "df3"
   ]
  },
  {
   "cell_type": "code",
   "execution_count": null,
   "id": "d4884c96",
   "metadata": {},
   "outputs": [],
   "source": [
    "df.head()"
   ]
  },
  {
   "cell_type": "code",
   "execution_count": null,
   "id": "8fd58169",
   "metadata": {},
   "outputs": [],
   "source": []
  },
  {
   "cell_type": "code",
   "execution_count": null,
   "id": "10c9afa4",
   "metadata": {},
   "outputs": [],
   "source": [
    "x=df[[\"Name\",\"Age\"]]"
   ]
  },
  {
   "cell_type": "code",
   "execution_count": 32,
   "id": "6455e399",
   "metadata": {},
   "outputs": [
    {
     "data": {
      "text/html": [
       "<div>\n",
       "<style scoped>\n",
       "    .dataframe tbody tr th:only-of-type {\n",
       "        vertical-align: middle;\n",
       "    }\n",
       "\n",
       "    .dataframe tbody tr th {\n",
       "        vertical-align: top;\n",
       "    }\n",
       "\n",
       "    .dataframe thead th {\n",
       "        text-align: right;\n",
       "    }\n",
       "</style>\n",
       "<table border=\"1\" class=\"dataframe\">\n",
       "  <thead>\n",
       "    <tr style=\"text-align: right;\">\n",
       "      <th></th>\n",
       "      <th>Name</th>\n",
       "      <th>Age</th>\n",
       "      <th>Education</th>\n",
       "      <th>Gender</th>\n",
       "      <th>Y/N</th>\n",
       "    </tr>\n",
       "  </thead>\n",
       "  <tbody>\n",
       "    <tr>\n",
       "      <th>0</th>\n",
       "      <td>Sanwal</td>\n",
       "      <td>22</td>\n",
       "      <td>BSCS</td>\n",
       "      <td>B</td>\n",
       "      <td>True</td>\n",
       "    </tr>\n",
       "    <tr>\n",
       "      <th>1</th>\n",
       "      <td>Amar</td>\n",
       "      <td>21</td>\n",
       "      <td>BSCS</td>\n",
       "      <td>B</td>\n",
       "      <td>True</td>\n",
       "    </tr>\n",
       "    <tr>\n",
       "      <th>2</th>\n",
       "      <td>Ahmad</td>\n",
       "      <td>20</td>\n",
       "      <td>BSIT</td>\n",
       "      <td>B</td>\n",
       "      <td>True</td>\n",
       "    </tr>\n",
       "    <tr>\n",
       "      <th>3</th>\n",
       "      <td>Anaya</td>\n",
       "      <td>8</td>\n",
       "      <td>BSM</td>\n",
       "      <td>G</td>\n",
       "      <td>False</td>\n",
       "    </tr>\n",
       "    <tr>\n",
       "      <th>4</th>\n",
       "      <td>Shoukat</td>\n",
       "      <td>24</td>\n",
       "      <td>BSU</td>\n",
       "      <td>B</td>\n",
       "      <td>True</td>\n",
       "    </tr>\n",
       "  </tbody>\n",
       "</table>\n",
       "</div>"
      ],
      "text/plain": [
       "      Name  Age Education Gender    Y/N\n",
       "0   Sanwal   22      BSCS      B   True\n",
       "1     Amar   21      BSCS      B   True\n",
       "2    Ahmad   20      BSIT      B   True\n",
       "3    Anaya    8       BSM      G  False\n",
       "4  Shoukat   24       BSU      B   True"
      ]
     },
     "execution_count": 32,
     "metadata": {},
     "output_type": "execute_result"
    }
   ],
   "source": [
    "df"
   ]
  },
  {
   "cell_type": "code",
   "execution_count": 35,
   "id": "5bae61bd",
   "metadata": {},
   "outputs": [],
   "source": [
    "s=pd.Series([1,2,3,np.nan,5,np.nan])"
   ]
  },
  {
   "cell_type": "code",
   "execution_count": 42,
   "id": "62f0bdbd",
   "metadata": {},
   "outputs": [
    {
     "data": {
      "text/plain": [
       "6"
      ]
     },
     "execution_count": 42,
     "metadata": {},
     "output_type": "execute_result"
    }
   ],
   "source": [
    "s.notnull().count()"
   ]
  },
  {
   "cell_type": "code",
   "execution_count": 44,
   "id": "9f57bc89",
   "metadata": {},
   "outputs": [
    {
     "data": {
      "text/plain": [
       "0    1.0\n",
       "1    2.0\n",
       "2    3.0\n",
       "3    NaN\n",
       "4    5.0\n",
       "5    NaN\n",
       "dtype: float64"
      ]
     },
     "execution_count": 44,
     "metadata": {},
     "output_type": "execute_result"
    }
   ],
   "source": [
    "s"
   ]
  },
  {
   "cell_type": "code",
   "execution_count": 45,
   "id": "ce9a4728",
   "metadata": {},
   "outputs": [
    {
     "data": {
      "text/plain": [
       "0    1.0\n",
       "1    2.0\n",
       "2    3.0\n",
       "4    5.0\n",
       "dtype: float64"
      ]
     },
     "execution_count": 45,
     "metadata": {},
     "output_type": "execute_result"
    }
   ],
   "source": [
    "s.dropna()"
   ]
  },
  {
   "cell_type": "code",
   "execution_count": 46,
   "id": "f06115d5",
   "metadata": {},
   "outputs": [
    {
     "data": {
      "text/plain": [
       "0    1.0\n",
       "1    2.0\n",
       "2    3.0\n",
       "3    NaN\n",
       "4    5.0\n",
       "5    NaN\n",
       "dtype: float64"
      ]
     },
     "execution_count": 46,
     "metadata": {},
     "output_type": "execute_result"
    }
   ],
   "source": [
    "s"
   ]
  },
  {
   "cell_type": "code",
   "execution_count": 47,
   "id": "5ac827ad",
   "metadata": {},
   "outputs": [
    {
     "data": {
      "text/plain": [
       "0    1.0\n",
       "1    2.0\n",
       "2    3.0\n",
       "3    NaN\n",
       "4    5.0\n",
       "5    NaN\n",
       "dtype: float64"
      ]
     },
     "execution_count": 47,
     "metadata": {},
     "output_type": "execute_result"
    }
   ],
   "source": [
    "s"
   ]
  },
  {
   "cell_type": "code",
   "execution_count": 53,
   "id": "01cfbae7",
   "metadata": {},
   "outputs": [
    {
     "data": {
      "text/plain": [
       "0    1.0\n",
       "1    2.0\n",
       "2    3.0\n",
       "3    0.0\n",
       "4    5.0\n",
       "5    0.0\n",
       "dtype: float64"
      ]
     },
     "execution_count": 53,
     "metadata": {},
     "output_type": "execute_result"
    }
   ],
   "source": [
    "s.fillna(0)"
   ]
  },
  {
   "cell_type": "code",
   "execution_count": 56,
   "id": "357a08ba",
   "metadata": {},
   "outputs": [
    {
     "data": {
      "text/html": [
       "<div>\n",
       "<style scoped>\n",
       "    .dataframe tbody tr th:only-of-type {\n",
       "        vertical-align: middle;\n",
       "    }\n",
       "\n",
       "    .dataframe tbody tr th {\n",
       "        vertical-align: top;\n",
       "    }\n",
       "\n",
       "    .dataframe thead th {\n",
       "        text-align: right;\n",
       "    }\n",
       "</style>\n",
       "<table border=\"1\" class=\"dataframe\">\n",
       "  <thead>\n",
       "    <tr style=\"text-align: right;\">\n",
       "      <th></th>\n",
       "      <th>Name</th>\n",
       "      <th>Age</th>\n",
       "      <th>AI_For_EveryOne</th>\n",
       "      <th>Git</th>\n",
       "      <th>Numpy</th>\n",
       "      <th>Pandas</th>\n",
       "      <th>Total_Marks</th>\n",
       "    </tr>\n",
       "  </thead>\n",
       "  <tbody>\n",
       "    <tr>\n",
       "      <th>0</th>\n",
       "      <td>Sanwal</td>\n",
       "      <td>21</td>\n",
       "      <td>60</td>\n",
       "      <td>76</td>\n",
       "      <td>54</td>\n",
       "      <td>87</td>\n",
       "      <td>277</td>\n",
       "    </tr>\n",
       "    <tr>\n",
       "      <th>1</th>\n",
       "      <td>Amar</td>\n",
       "      <td>21</td>\n",
       "      <td>35</td>\n",
       "      <td>67</td>\n",
       "      <td>76</td>\n",
       "      <td>45</td>\n",
       "      <td>223</td>\n",
       "    </tr>\n",
       "    <tr>\n",
       "      <th>2</th>\n",
       "      <td>Ali</td>\n",
       "      <td>20</td>\n",
       "      <td>67</td>\n",
       "      <td>98</td>\n",
       "      <td>97</td>\n",
       "      <td>87</td>\n",
       "      <td>349</td>\n",
       "    </tr>\n",
       "    <tr>\n",
       "      <th>3</th>\n",
       "      <td>Ahmad</td>\n",
       "      <td>24</td>\n",
       "      <td>89</td>\n",
       "      <td>46</td>\n",
       "      <td>34</td>\n",
       "      <td>45</td>\n",
       "      <td>214</td>\n",
       "    </tr>\n",
       "    <tr>\n",
       "      <th>4</th>\n",
       "      <td>Abid</td>\n",
       "      <td>23</td>\n",
       "      <td>76</td>\n",
       "      <td>35</td>\n",
       "      <td>67</td>\n",
       "      <td>87</td>\n",
       "      <td>265</td>\n",
       "    </tr>\n",
       "    <tr>\n",
       "      <th>5</th>\n",
       "      <td>Hamza</td>\n",
       "      <td>25</td>\n",
       "      <td>46</td>\n",
       "      <td>87</td>\n",
       "      <td>45</td>\n",
       "      <td>56</td>\n",
       "      <td>234</td>\n",
       "    </tr>\n",
       "  </tbody>\n",
       "</table>\n",
       "</div>"
      ],
      "text/plain": [
       "     Name  Age  AI_For_EveryOne  Git  Numpy  Pandas  Total_Marks\n",
       "0  Sanwal   21               60   76     54      87          277\n",
       "1    Amar   21               35   67     76      45          223\n",
       "2     Ali   20               67   98     97      87          349\n",
       "3   Ahmad   24               89   46     34      45          214\n",
       "4    Abid   23               76   35     67      87          265\n",
       "5   Hamza   25               46   87     45      56          234"
      ]
     },
     "execution_count": 56,
     "metadata": {},
     "output_type": "execute_result"
    }
   ],
   "source": [
    "df2"
   ]
  },
  {
   "cell_type": "code",
   "execution_count": 58,
   "id": "8f39cc38",
   "metadata": {},
   "outputs": [
    {
     "data": {
      "text/html": [
       "<div>\n",
       "<style scoped>\n",
       "    .dataframe tbody tr th:only-of-type {\n",
       "        vertical-align: middle;\n",
       "    }\n",
       "\n",
       "    .dataframe tbody tr th {\n",
       "        vertical-align: top;\n",
       "    }\n",
       "\n",
       "    .dataframe thead th {\n",
       "        text-align: right;\n",
       "    }\n",
       "</style>\n",
       "<table border=\"1\" class=\"dataframe\">\n",
       "  <thead>\n",
       "    <tr style=\"text-align: right;\">\n",
       "      <th></th>\n",
       "      <th>Name</th>\n",
       "      <th>Age</th>\n",
       "      <th>AI_For_EveryOne</th>\n",
       "      <th>Git</th>\n",
       "      <th>Numpy</th>\n",
       "      <th>Pandas</th>\n",
       "      <th>Total_Marks</th>\n",
       "    </tr>\n",
       "  </thead>\n",
       "  <tbody>\n",
       "    <tr>\n",
       "      <th>0</th>\n",
       "      <td>i</td>\n",
       "      <td>21</td>\n",
       "      <td>60</td>\n",
       "      <td>76</td>\n",
       "      <td>54</td>\n",
       "      <td>87</td>\n",
       "      <td>277</td>\n",
       "    </tr>\n",
       "    <tr>\n",
       "      <th>1</th>\n",
       "      <td>Amar</td>\n",
       "      <td>21</td>\n",
       "      <td>35</td>\n",
       "      <td>67</td>\n",
       "      <td>76</td>\n",
       "      <td>45</td>\n",
       "      <td>223</td>\n",
       "    </tr>\n",
       "    <tr>\n",
       "      <th>2</th>\n",
       "      <td>Ali</td>\n",
       "      <td>20</td>\n",
       "      <td>67</td>\n",
       "      <td>98</td>\n",
       "      <td>97</td>\n",
       "      <td>87</td>\n",
       "      <td>349</td>\n",
       "    </tr>\n",
       "    <tr>\n",
       "      <th>3</th>\n",
       "      <td>Ahmad</td>\n",
       "      <td>24</td>\n",
       "      <td>89</td>\n",
       "      <td>46</td>\n",
       "      <td>34</td>\n",
       "      <td>45</td>\n",
       "      <td>214</td>\n",
       "    </tr>\n",
       "    <tr>\n",
       "      <th>4</th>\n",
       "      <td>Abid</td>\n",
       "      <td>23</td>\n",
       "      <td>76</td>\n",
       "      <td>35</td>\n",
       "      <td>67</td>\n",
       "      <td>87</td>\n",
       "      <td>265</td>\n",
       "    </tr>\n",
       "    <tr>\n",
       "      <th>5</th>\n",
       "      <td>Hamza</td>\n",
       "      <td>25</td>\n",
       "      <td>46</td>\n",
       "      <td>87</td>\n",
       "      <td>45</td>\n",
       "      <td>56</td>\n",
       "      <td>234</td>\n",
       "    </tr>\n",
       "  </tbody>\n",
       "</table>\n",
       "</div>"
      ],
      "text/plain": [
       "    Name  Age  AI_For_EveryOne  Git  Numpy  Pandas  Total_Marks\n",
       "0      i   21               60   76     54      87          277\n",
       "1   Amar   21               35   67     76      45          223\n",
       "2    Ali   20               67   98     97      87          349\n",
       "3  Ahmad   24               89   46     34      45          214\n",
       "4   Abid   23               76   35     67      87          265\n",
       "5  Hamza   25               46   87     45      56          234"
      ]
     },
     "execution_count": 58,
     "metadata": {},
     "output_type": "execute_result"
    }
   ],
   "source": [
    "df2.replace(\"Sanwal\",\"i\")"
   ]
  },
  {
   "cell_type": "code",
   "execution_count": 59,
   "id": "326236f7",
   "metadata": {},
   "outputs": [
    {
     "data": {
      "text/html": [
       "<div>\n",
       "<style scoped>\n",
       "    .dataframe tbody tr th:only-of-type {\n",
       "        vertical-align: middle;\n",
       "    }\n",
       "\n",
       "    .dataframe tbody tr th {\n",
       "        vertical-align: top;\n",
       "    }\n",
       "\n",
       "    .dataframe thead th {\n",
       "        text-align: right;\n",
       "    }\n",
       "</style>\n",
       "<table border=\"1\" class=\"dataframe\">\n",
       "  <thead>\n",
       "    <tr style=\"text-align: right;\">\n",
       "      <th></th>\n",
       "      <th>Name</th>\n",
       "      <th>Age</th>\n",
       "      <th>AI_For_EveryOne</th>\n",
       "      <th>Git</th>\n",
       "      <th>Numpy</th>\n",
       "      <th>Pandas</th>\n",
       "      <th>Total_Marks</th>\n",
       "    </tr>\n",
       "  </thead>\n",
       "  <tbody>\n",
       "    <tr>\n",
       "      <th>0</th>\n",
       "      <td>Sanwal</td>\n",
       "      <td>21</td>\n",
       "      <td>60</td>\n",
       "      <td>76</td>\n",
       "      <td>54</td>\n",
       "      <td>87</td>\n",
       "      <td>277</td>\n",
       "    </tr>\n",
       "    <tr>\n",
       "      <th>1</th>\n",
       "      <td>Amar</td>\n",
       "      <td>21</td>\n",
       "      <td>35</td>\n",
       "      <td>67</td>\n",
       "      <td>76</td>\n",
       "      <td>45</td>\n",
       "      <td>223</td>\n",
       "    </tr>\n",
       "    <tr>\n",
       "      <th>2</th>\n",
       "      <td>Ali</td>\n",
       "      <td>20</td>\n",
       "      <td>67</td>\n",
       "      <td>98</td>\n",
       "      <td>97</td>\n",
       "      <td>87</td>\n",
       "      <td>349</td>\n",
       "    </tr>\n",
       "    <tr>\n",
       "      <th>3</th>\n",
       "      <td>Ahmad</td>\n",
       "      <td>24</td>\n",
       "      <td>89</td>\n",
       "      <td>46</td>\n",
       "      <td>34</td>\n",
       "      <td>45</td>\n",
       "      <td>214</td>\n",
       "    </tr>\n",
       "    <tr>\n",
       "      <th>4</th>\n",
       "      <td>Abid</td>\n",
       "      <td>23</td>\n",
       "      <td>76</td>\n",
       "      <td>35</td>\n",
       "      <td>67</td>\n",
       "      <td>87</td>\n",
       "      <td>265</td>\n",
       "    </tr>\n",
       "    <tr>\n",
       "      <th>5</th>\n",
       "      <td>Hamza</td>\n",
       "      <td>25</td>\n",
       "      <td>46</td>\n",
       "      <td>87</td>\n",
       "      <td>45</td>\n",
       "      <td>56</td>\n",
       "      <td>234</td>\n",
       "    </tr>\n",
       "  </tbody>\n",
       "</table>\n",
       "</div>"
      ],
      "text/plain": [
       "     Name  Age  AI_For_EveryOne  Git  Numpy  Pandas  Total_Marks\n",
       "0  Sanwal   21               60   76     54      87          277\n",
       "1    Amar   21               35   67     76      45          223\n",
       "2     Ali   20               67   98     97      87          349\n",
       "3   Ahmad   24               89   46     34      45          214\n",
       "4    Abid   23               76   35     67      87          265\n",
       "5   Hamza   25               46   87     45      56          234"
      ]
     },
     "execution_count": 59,
     "metadata": {},
     "output_type": "execute_result"
    }
   ],
   "source": [
    "df2"
   ]
  },
  {
   "cell_type": "code",
   "execution_count": null,
   "id": "812776ae",
   "metadata": {},
   "outputs": [],
   "source": []
  }
 ],
 "metadata": {
  "kernelspec": {
   "display_name": "Python 3",
   "language": "python",
   "name": "python3"
  },
  "language_info": {
   "codemirror_mode": {
    "name": "ipython",
    "version": 3
   },
   "file_extension": ".py",
   "mimetype": "text/x-python",
   "name": "python",
   "nbconvert_exporter": "python",
   "pygments_lexer": "ipython3",
   "version": "3.8.5"
  }
 },
 "nbformat": 4,
 "nbformat_minor": 5
}
